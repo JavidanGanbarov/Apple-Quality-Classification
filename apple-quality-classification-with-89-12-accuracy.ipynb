{
 "cells": [
  {
   "cell_type": "markdown",
   "id": "d329f84e",
   "metadata": {
    "papermill": {
     "duration": 0.007227,
     "end_time": "2024-02-29T10:58:24.954980",
     "exception": false,
     "start_time": "2024-02-29T10:58:24.947753",
     "status": "completed"
    },
    "tags": []
   },
   "source": [
    "**Importing data**"
   ]
  },
  {
   "cell_type": "code",
   "execution_count": 1,
   "id": "004c9c7c",
   "metadata": {
    "_cell_guid": "b1076dfc-b9ad-4769-8c92-a6c4dae69d19",
    "_uuid": "8f2839f25d086af736a60e9eeb907d3b93b6e0e5",
    "execution": {
     "iopub.execute_input": "2024-02-29T10:58:24.970043Z",
     "iopub.status.busy": "2024-02-29T10:58:24.969644Z",
     "iopub.status.idle": "2024-02-29T10:58:25.956312Z",
     "shell.execute_reply": "2024-02-29T10:58:25.955032Z"
    },
    "papermill": {
     "duration": 0.997011,
     "end_time": "2024-02-29T10:58:25.958968",
     "exception": false,
     "start_time": "2024-02-29T10:58:24.961957",
     "status": "completed"
    },
    "tags": []
   },
   "outputs": [
    {
     "name": "stdout",
     "output_type": "stream",
     "text": [
      "/kaggle/input/apple-quality/apple_quality.csv\n"
     ]
    }
   ],
   "source": [
    "import numpy as np \n",
    "import pandas as pd \n",
    "\n",
    "import os\n",
    "for dirname, _, filenames in os.walk('/kaggle/input'):\n",
    "    for filename in filenames:\n",
    "        print(os.path.join(dirname, filename))\n"
   ]
  },
  {
   "cell_type": "code",
   "execution_count": 2,
   "id": "245f7ba8",
   "metadata": {
    "execution": {
     "iopub.execute_input": "2024-02-29T10:58:25.974395Z",
     "iopub.status.busy": "2024-02-29T10:58:25.973417Z",
     "iopub.status.idle": "2024-02-29T10:58:26.021387Z",
     "shell.execute_reply": "2024-02-29T10:58:26.020276Z"
    },
    "papermill": {
     "duration": 0.058409,
     "end_time": "2024-02-29T10:58:26.024161",
     "exception": false,
     "start_time": "2024-02-29T10:58:25.965752",
     "status": "completed"
    },
    "tags": []
   },
   "outputs": [
    {
     "data": {
      "text/html": [
       "<div>\n",
       "<style scoped>\n",
       "    .dataframe tbody tr th:only-of-type {\n",
       "        vertical-align: middle;\n",
       "    }\n",
       "\n",
       "    .dataframe tbody tr th {\n",
       "        vertical-align: top;\n",
       "    }\n",
       "\n",
       "    .dataframe thead th {\n",
       "        text-align: right;\n",
       "    }\n",
       "</style>\n",
       "<table border=\"1\" class=\"dataframe\">\n",
       "  <thead>\n",
       "    <tr style=\"text-align: right;\">\n",
       "      <th></th>\n",
       "      <th>A_id</th>\n",
       "      <th>Size</th>\n",
       "      <th>Weight</th>\n",
       "      <th>Sweetness</th>\n",
       "      <th>Crunchiness</th>\n",
       "      <th>Juiciness</th>\n",
       "      <th>Ripeness</th>\n",
       "      <th>Acidity</th>\n",
       "      <th>Quality</th>\n",
       "    </tr>\n",
       "  </thead>\n",
       "  <tbody>\n",
       "    <tr>\n",
       "      <th>0</th>\n",
       "      <td>0.0</td>\n",
       "      <td>-3.970049</td>\n",
       "      <td>-2.512336</td>\n",
       "      <td>5.346330</td>\n",
       "      <td>-1.012009</td>\n",
       "      <td>1.844900</td>\n",
       "      <td>0.329840</td>\n",
       "      <td>-0.491590483</td>\n",
       "      <td>good</td>\n",
       "    </tr>\n",
       "    <tr>\n",
       "      <th>1</th>\n",
       "      <td>1.0</td>\n",
       "      <td>-1.195217</td>\n",
       "      <td>-2.839257</td>\n",
       "      <td>3.664059</td>\n",
       "      <td>1.588232</td>\n",
       "      <td>0.853286</td>\n",
       "      <td>0.867530</td>\n",
       "      <td>-0.722809367</td>\n",
       "      <td>good</td>\n",
       "    </tr>\n",
       "    <tr>\n",
       "      <th>2</th>\n",
       "      <td>2.0</td>\n",
       "      <td>-0.292024</td>\n",
       "      <td>-1.351282</td>\n",
       "      <td>-1.738429</td>\n",
       "      <td>-0.342616</td>\n",
       "      <td>2.838636</td>\n",
       "      <td>-0.038033</td>\n",
       "      <td>2.621636473</td>\n",
       "      <td>bad</td>\n",
       "    </tr>\n",
       "    <tr>\n",
       "      <th>3</th>\n",
       "      <td>3.0</td>\n",
       "      <td>-0.657196</td>\n",
       "      <td>-2.271627</td>\n",
       "      <td>1.324874</td>\n",
       "      <td>-0.097875</td>\n",
       "      <td>3.637970</td>\n",
       "      <td>-3.413761</td>\n",
       "      <td>0.790723217</td>\n",
       "      <td>good</td>\n",
       "    </tr>\n",
       "    <tr>\n",
       "      <th>4</th>\n",
       "      <td>4.0</td>\n",
       "      <td>1.364217</td>\n",
       "      <td>-1.296612</td>\n",
       "      <td>-0.384658</td>\n",
       "      <td>-0.553006</td>\n",
       "      <td>3.030874</td>\n",
       "      <td>-1.303849</td>\n",
       "      <td>0.501984036</td>\n",
       "      <td>good</td>\n",
       "    </tr>\n",
       "  </tbody>\n",
       "</table>\n",
       "</div>"
      ],
      "text/plain": [
       "   A_id      Size    Weight  Sweetness  Crunchiness  Juiciness  Ripeness  \\\n",
       "0   0.0 -3.970049 -2.512336   5.346330    -1.012009   1.844900  0.329840   \n",
       "1   1.0 -1.195217 -2.839257   3.664059     1.588232   0.853286  0.867530   \n",
       "2   2.0 -0.292024 -1.351282  -1.738429    -0.342616   2.838636 -0.038033   \n",
       "3   3.0 -0.657196 -2.271627   1.324874    -0.097875   3.637970 -3.413761   \n",
       "4   4.0  1.364217 -1.296612  -0.384658    -0.553006   3.030874 -1.303849   \n",
       "\n",
       "        Acidity Quality  \n",
       "0  -0.491590483    good  \n",
       "1  -0.722809367    good  \n",
       "2   2.621636473     bad  \n",
       "3   0.790723217    good  \n",
       "4   0.501984036    good  "
      ]
     },
     "execution_count": 2,
     "metadata": {},
     "output_type": "execute_result"
    }
   ],
   "source": [
    "data = pd.read_csv(\"/kaggle/input/apple-quality/apple_quality.csv\")\n",
    "\n",
    "data.head()"
   ]
  },
  {
   "cell_type": "code",
   "execution_count": 3,
   "id": "fbe5eb1d",
   "metadata": {
    "execution": {
     "iopub.execute_input": "2024-02-29T10:58:26.039771Z",
     "iopub.status.busy": "2024-02-29T10:58:26.039344Z",
     "iopub.status.idle": "2024-02-29T10:58:26.055201Z",
     "shell.execute_reply": "2024-02-29T10:58:26.054023Z"
    },
    "papermill": {
     "duration": 0.026238,
     "end_time": "2024-02-29T10:58:26.057424",
     "exception": false,
     "start_time": "2024-02-29T10:58:26.031186",
     "status": "completed"
    },
    "tags": []
   },
   "outputs": [
    {
     "data": {
      "text/html": [
       "<div>\n",
       "<style scoped>\n",
       "    .dataframe tbody tr th:only-of-type {\n",
       "        vertical-align: middle;\n",
       "    }\n",
       "\n",
       "    .dataframe tbody tr th {\n",
       "        vertical-align: top;\n",
       "    }\n",
       "\n",
       "    .dataframe thead th {\n",
       "        text-align: right;\n",
       "    }\n",
       "</style>\n",
       "<table border=\"1\" class=\"dataframe\">\n",
       "  <thead>\n",
       "    <tr style=\"text-align: right;\">\n",
       "      <th></th>\n",
       "      <th>A_id</th>\n",
       "      <th>Size</th>\n",
       "      <th>Weight</th>\n",
       "      <th>Sweetness</th>\n",
       "      <th>Crunchiness</th>\n",
       "      <th>Juiciness</th>\n",
       "      <th>Ripeness</th>\n",
       "      <th>Acidity</th>\n",
       "      <th>Quality</th>\n",
       "    </tr>\n",
       "  </thead>\n",
       "  <tbody>\n",
       "    <tr>\n",
       "      <th>3996</th>\n",
       "      <td>3996.0</td>\n",
       "      <td>-0.293118</td>\n",
       "      <td>1.949253</td>\n",
       "      <td>-0.204020</td>\n",
       "      <td>-0.640196</td>\n",
       "      <td>0.024523</td>\n",
       "      <td>-1.087900</td>\n",
       "      <td>1.854235285</td>\n",
       "      <td>good</td>\n",
       "    </tr>\n",
       "    <tr>\n",
       "      <th>3997</th>\n",
       "      <td>3997.0</td>\n",
       "      <td>-2.634515</td>\n",
       "      <td>-2.138247</td>\n",
       "      <td>-2.440461</td>\n",
       "      <td>0.657223</td>\n",
       "      <td>2.199709</td>\n",
       "      <td>4.763859</td>\n",
       "      <td>-1.334611391</td>\n",
       "      <td>bad</td>\n",
       "    </tr>\n",
       "    <tr>\n",
       "      <th>3998</th>\n",
       "      <td>3998.0</td>\n",
       "      <td>-4.008004</td>\n",
       "      <td>-1.779337</td>\n",
       "      <td>2.366397</td>\n",
       "      <td>-0.200329</td>\n",
       "      <td>2.161435</td>\n",
       "      <td>0.214488</td>\n",
       "      <td>-2.229719806</td>\n",
       "      <td>good</td>\n",
       "    </tr>\n",
       "    <tr>\n",
       "      <th>3999</th>\n",
       "      <td>3999.0</td>\n",
       "      <td>0.278540</td>\n",
       "      <td>-1.715505</td>\n",
       "      <td>0.121217</td>\n",
       "      <td>-1.154075</td>\n",
       "      <td>1.266677</td>\n",
       "      <td>-0.776571</td>\n",
       "      <td>1.599796456</td>\n",
       "      <td>good</td>\n",
       "    </tr>\n",
       "    <tr>\n",
       "      <th>4000</th>\n",
       "      <td>NaN</td>\n",
       "      <td>NaN</td>\n",
       "      <td>NaN</td>\n",
       "      <td>NaN</td>\n",
       "      <td>NaN</td>\n",
       "      <td>NaN</td>\n",
       "      <td>NaN</td>\n",
       "      <td>Created_by_Nidula_Elgiriyewithana</td>\n",
       "      <td>NaN</td>\n",
       "    </tr>\n",
       "  </tbody>\n",
       "</table>\n",
       "</div>"
      ],
      "text/plain": [
       "        A_id      Size    Weight  Sweetness  Crunchiness  Juiciness  Ripeness  \\\n",
       "3996  3996.0 -0.293118  1.949253  -0.204020    -0.640196   0.024523 -1.087900   \n",
       "3997  3997.0 -2.634515 -2.138247  -2.440461     0.657223   2.199709  4.763859   \n",
       "3998  3998.0 -4.008004 -1.779337   2.366397    -0.200329   2.161435  0.214488   \n",
       "3999  3999.0  0.278540 -1.715505   0.121217    -1.154075   1.266677 -0.776571   \n",
       "4000     NaN       NaN       NaN        NaN          NaN        NaN       NaN   \n",
       "\n",
       "                                Acidity Quality  \n",
       "3996                        1.854235285    good  \n",
       "3997                       -1.334611391     bad  \n",
       "3998                       -2.229719806    good  \n",
       "3999                        1.599796456    good  \n",
       "4000  Created_by_Nidula_Elgiriyewithana     NaN  "
      ]
     },
     "execution_count": 3,
     "metadata": {},
     "output_type": "execute_result"
    }
   ],
   "source": [
    "data.tail()"
   ]
  },
  {
   "cell_type": "code",
   "execution_count": 4,
   "id": "c4431101",
   "metadata": {
    "execution": {
     "iopub.execute_input": "2024-02-29T10:58:26.073411Z",
     "iopub.status.busy": "2024-02-29T10:58:26.072585Z",
     "iopub.status.idle": "2024-02-29T10:58:26.103670Z",
     "shell.execute_reply": "2024-02-29T10:58:26.102349Z"
    },
    "papermill": {
     "duration": 0.041531,
     "end_time": "2024-02-29T10:58:26.105930",
     "exception": false,
     "start_time": "2024-02-29T10:58:26.064399",
     "status": "completed"
    },
    "tags": []
   },
   "outputs": [
    {
     "name": "stdout",
     "output_type": "stream",
     "text": [
      "<class 'pandas.core.frame.DataFrame'>\n",
      "RangeIndex: 4001 entries, 0 to 4000\n",
      "Data columns (total 9 columns):\n",
      " #   Column       Non-Null Count  Dtype  \n",
      "---  ------       --------------  -----  \n",
      " 0   A_id         4000 non-null   float64\n",
      " 1   Size         4000 non-null   float64\n",
      " 2   Weight       4000 non-null   float64\n",
      " 3   Sweetness    4000 non-null   float64\n",
      " 4   Crunchiness  4000 non-null   float64\n",
      " 5   Juiciness    4000 non-null   float64\n",
      " 6   Ripeness     4000 non-null   float64\n",
      " 7   Acidity      4001 non-null   object \n",
      " 8   Quality      4000 non-null   object \n",
      "dtypes: float64(7), object(2)\n",
      "memory usage: 281.4+ KB\n"
     ]
    }
   ],
   "source": [
    "data.info()"
   ]
  },
  {
   "cell_type": "code",
   "execution_count": 5,
   "id": "4e1e1cf2",
   "metadata": {
    "execution": {
     "iopub.execute_input": "2024-02-29T10:58:26.122256Z",
     "iopub.status.busy": "2024-02-29T10:58:26.121868Z",
     "iopub.status.idle": "2024-02-29T10:58:26.130965Z",
     "shell.execute_reply": "2024-02-29T10:58:26.129620Z"
    },
    "papermill": {
     "duration": 0.019839,
     "end_time": "2024-02-29T10:58:26.132990",
     "exception": false,
     "start_time": "2024-02-29T10:58:26.113151",
     "status": "completed"
    },
    "tags": []
   },
   "outputs": [
    {
     "data": {
      "text/plain": [
       "A_id           1\n",
       "Size           1\n",
       "Weight         1\n",
       "Sweetness      1\n",
       "Crunchiness    1\n",
       "Juiciness      1\n",
       "Ripeness       1\n",
       "Acidity        0\n",
       "Quality        1\n",
       "dtype: int64"
      ]
     },
     "execution_count": 5,
     "metadata": {},
     "output_type": "execute_result"
    }
   ],
   "source": [
    "data.isna().sum() #checking null values in data"
   ]
  },
  {
   "cell_type": "code",
   "execution_count": 6,
   "id": "eddac616",
   "metadata": {
    "execution": {
     "iopub.execute_input": "2024-02-29T10:58:26.149482Z",
     "iopub.status.busy": "2024-02-29T10:58:26.149101Z",
     "iopub.status.idle": "2024-02-29T10:58:26.161704Z",
     "shell.execute_reply": "2024-02-29T10:58:26.160890Z"
    },
    "papermill": {
     "duration": 0.023182,
     "end_time": "2024-02-29T10:58:26.163767",
     "exception": false,
     "start_time": "2024-02-29T10:58:26.140585",
     "status": "completed"
    },
    "tags": []
   },
   "outputs": [
    {
     "data": {
      "text/plain": [
       "A_id           0\n",
       "Size           0\n",
       "Weight         0\n",
       "Sweetness      0\n",
       "Crunchiness    0\n",
       "Juiciness      0\n",
       "Ripeness       0\n",
       "Acidity        0\n",
       "Quality        0\n",
       "dtype: int64"
      ]
     },
     "execution_count": 6,
     "metadata": {},
     "output_type": "execute_result"
    }
   ],
   "source": [
    "data=data.dropna() #drop null values from data\n",
    "data.isna().sum()"
   ]
  },
  {
   "cell_type": "code",
   "execution_count": 7,
   "id": "10aca652",
   "metadata": {
    "execution": {
     "iopub.execute_input": "2024-02-29T10:58:26.181526Z",
     "iopub.status.busy": "2024-02-29T10:58:26.180849Z",
     "iopub.status.idle": "2024-02-29T10:58:26.211699Z",
     "shell.execute_reply": "2024-02-29T10:58:26.210547Z"
    },
    "papermill": {
     "duration": 0.042796,
     "end_time": "2024-02-29T10:58:26.214009",
     "exception": false,
     "start_time": "2024-02-29T10:58:26.171213",
     "status": "completed"
    },
    "tags": []
   },
   "outputs": [
    {
     "data": {
      "text/html": [
       "<div>\n",
       "<style scoped>\n",
       "    .dataframe tbody tr th:only-of-type {\n",
       "        vertical-align: middle;\n",
       "    }\n",
       "\n",
       "    .dataframe tbody tr th {\n",
       "        vertical-align: top;\n",
       "    }\n",
       "\n",
       "    .dataframe thead th {\n",
       "        text-align: right;\n",
       "    }\n",
       "</style>\n",
       "<table border=\"1\" class=\"dataframe\">\n",
       "  <thead>\n",
       "    <tr style=\"text-align: right;\">\n",
       "      <th></th>\n",
       "      <th>count</th>\n",
       "      <th>mean</th>\n",
       "      <th>std</th>\n",
       "      <th>min</th>\n",
       "      <th>25%</th>\n",
       "      <th>50%</th>\n",
       "      <th>75%</th>\n",
       "      <th>max</th>\n",
       "    </tr>\n",
       "  </thead>\n",
       "  <tbody>\n",
       "    <tr>\n",
       "      <th>A_id</th>\n",
       "      <td>4000.0</td>\n",
       "      <td>1999.500000</td>\n",
       "      <td>1154.844867</td>\n",
       "      <td>0.000000</td>\n",
       "      <td>999.750000</td>\n",
       "      <td>1999.500000</td>\n",
       "      <td>2999.250000</td>\n",
       "      <td>3999.000000</td>\n",
       "    </tr>\n",
       "    <tr>\n",
       "      <th>Size</th>\n",
       "      <td>4000.0</td>\n",
       "      <td>-0.503015</td>\n",
       "      <td>1.928059</td>\n",
       "      <td>-7.151703</td>\n",
       "      <td>-1.816765</td>\n",
       "      <td>-0.513703</td>\n",
       "      <td>0.805526</td>\n",
       "      <td>6.406367</td>\n",
       "    </tr>\n",
       "    <tr>\n",
       "      <th>Weight</th>\n",
       "      <td>4000.0</td>\n",
       "      <td>-0.989547</td>\n",
       "      <td>1.602507</td>\n",
       "      <td>-7.149848</td>\n",
       "      <td>-2.011770</td>\n",
       "      <td>-0.984736</td>\n",
       "      <td>0.030976</td>\n",
       "      <td>5.790714</td>\n",
       "    </tr>\n",
       "    <tr>\n",
       "      <th>Sweetness</th>\n",
       "      <td>4000.0</td>\n",
       "      <td>-0.470479</td>\n",
       "      <td>1.943441</td>\n",
       "      <td>-6.894485</td>\n",
       "      <td>-1.738425</td>\n",
       "      <td>-0.504758</td>\n",
       "      <td>0.801922</td>\n",
       "      <td>6.374916</td>\n",
       "    </tr>\n",
       "    <tr>\n",
       "      <th>Crunchiness</th>\n",
       "      <td>4000.0</td>\n",
       "      <td>0.985478</td>\n",
       "      <td>1.402757</td>\n",
       "      <td>-6.055058</td>\n",
       "      <td>0.062764</td>\n",
       "      <td>0.998249</td>\n",
       "      <td>1.894234</td>\n",
       "      <td>7.619852</td>\n",
       "    </tr>\n",
       "    <tr>\n",
       "      <th>Juiciness</th>\n",
       "      <td>4000.0</td>\n",
       "      <td>0.512118</td>\n",
       "      <td>1.930286</td>\n",
       "      <td>-5.961897</td>\n",
       "      <td>-0.801286</td>\n",
       "      <td>0.534219</td>\n",
       "      <td>1.835976</td>\n",
       "      <td>7.364403</td>\n",
       "    </tr>\n",
       "    <tr>\n",
       "      <th>Ripeness</th>\n",
       "      <td>4000.0</td>\n",
       "      <td>0.498277</td>\n",
       "      <td>1.874427</td>\n",
       "      <td>-5.864599</td>\n",
       "      <td>-0.771677</td>\n",
       "      <td>0.503445</td>\n",
       "      <td>1.766212</td>\n",
       "      <td>7.237837</td>\n",
       "    </tr>\n",
       "  </tbody>\n",
       "</table>\n",
       "</div>"
      ],
      "text/plain": [
       "              count         mean          std       min         25%  \\\n",
       "A_id         4000.0  1999.500000  1154.844867  0.000000  999.750000   \n",
       "Size         4000.0    -0.503015     1.928059 -7.151703   -1.816765   \n",
       "Weight       4000.0    -0.989547     1.602507 -7.149848   -2.011770   \n",
       "Sweetness    4000.0    -0.470479     1.943441 -6.894485   -1.738425   \n",
       "Crunchiness  4000.0     0.985478     1.402757 -6.055058    0.062764   \n",
       "Juiciness    4000.0     0.512118     1.930286 -5.961897   -0.801286   \n",
       "Ripeness     4000.0     0.498277     1.874427 -5.864599   -0.771677   \n",
       "\n",
       "                     50%          75%          max  \n",
       "A_id         1999.500000  2999.250000  3999.000000  \n",
       "Size           -0.513703     0.805526     6.406367  \n",
       "Weight         -0.984736     0.030976     5.790714  \n",
       "Sweetness      -0.504758     0.801922     6.374916  \n",
       "Crunchiness     0.998249     1.894234     7.619852  \n",
       "Juiciness       0.534219     1.835976     7.364403  \n",
       "Ripeness        0.503445     1.766212     7.237837  "
      ]
     },
     "execution_count": 7,
     "metadata": {},
     "output_type": "execute_result"
    }
   ],
   "source": [
    "data.describe().T"
   ]
  },
  {
   "cell_type": "code",
   "execution_count": 8,
   "id": "1c34e56f",
   "metadata": {
    "execution": {
     "iopub.execute_input": "2024-02-29T10:58:26.230522Z",
     "iopub.status.busy": "2024-02-29T10:58:26.230137Z",
     "iopub.status.idle": "2024-02-29T10:58:26.242098Z",
     "shell.execute_reply": "2024-02-29T10:58:26.240956Z"
    },
    "papermill": {
     "duration": 0.022941,
     "end_time": "2024-02-29T10:58:26.244505",
     "exception": false,
     "start_time": "2024-02-29T10:58:26.221564",
     "status": "completed"
    },
    "tags": []
   },
   "outputs": [
    {
     "data": {
      "text/plain": [
       "0"
      ]
     },
     "execution_count": 8,
     "metadata": {},
     "output_type": "execute_result"
    }
   ],
   "source": [
    "data.duplicated().sum()"
   ]
  },
  {
   "cell_type": "code",
   "execution_count": 9,
   "id": "55e4642e",
   "metadata": {
    "execution": {
     "iopub.execute_input": "2024-02-29T10:58:26.261628Z",
     "iopub.status.busy": "2024-02-29T10:58:26.261239Z",
     "iopub.status.idle": "2024-02-29T10:58:26.278021Z",
     "shell.execute_reply": "2024-02-29T10:58:26.276817Z"
    },
    "papermill": {
     "duration": 0.027786,
     "end_time": "2024-02-29T10:58:26.280119",
     "exception": false,
     "start_time": "2024-02-29T10:58:26.252333",
     "status": "completed"
    },
    "tags": []
   },
   "outputs": [
    {
     "data": {
      "text/html": [
       "<div>\n",
       "<style scoped>\n",
       "    .dataframe tbody tr th:only-of-type {\n",
       "        vertical-align: middle;\n",
       "    }\n",
       "\n",
       "    .dataframe tbody tr th {\n",
       "        vertical-align: top;\n",
       "    }\n",
       "\n",
       "    .dataframe thead th {\n",
       "        text-align: right;\n",
       "    }\n",
       "</style>\n",
       "<table border=\"1\" class=\"dataframe\">\n",
       "  <thead>\n",
       "    <tr style=\"text-align: right;\">\n",
       "      <th></th>\n",
       "      <th>Size</th>\n",
       "      <th>Weight</th>\n",
       "      <th>Sweetness</th>\n",
       "      <th>Crunchiness</th>\n",
       "      <th>Juiciness</th>\n",
       "      <th>Ripeness</th>\n",
       "      <th>Acidity</th>\n",
       "      <th>Quality</th>\n",
       "    </tr>\n",
       "  </thead>\n",
       "  <tbody>\n",
       "    <tr>\n",
       "      <th>0</th>\n",
       "      <td>-3.970049</td>\n",
       "      <td>-2.512336</td>\n",
       "      <td>5.346330</td>\n",
       "      <td>-1.012009</td>\n",
       "      <td>1.844900</td>\n",
       "      <td>0.329840</td>\n",
       "      <td>-0.491590483</td>\n",
       "      <td>good</td>\n",
       "    </tr>\n",
       "    <tr>\n",
       "      <th>1</th>\n",
       "      <td>-1.195217</td>\n",
       "      <td>-2.839257</td>\n",
       "      <td>3.664059</td>\n",
       "      <td>1.588232</td>\n",
       "      <td>0.853286</td>\n",
       "      <td>0.867530</td>\n",
       "      <td>-0.722809367</td>\n",
       "      <td>good</td>\n",
       "    </tr>\n",
       "    <tr>\n",
       "      <th>2</th>\n",
       "      <td>-0.292024</td>\n",
       "      <td>-1.351282</td>\n",
       "      <td>-1.738429</td>\n",
       "      <td>-0.342616</td>\n",
       "      <td>2.838636</td>\n",
       "      <td>-0.038033</td>\n",
       "      <td>2.621636473</td>\n",
       "      <td>bad</td>\n",
       "    </tr>\n",
       "  </tbody>\n",
       "</table>\n",
       "</div>"
      ],
      "text/plain": [
       "       Size    Weight  Sweetness  Crunchiness  Juiciness  Ripeness  \\\n",
       "0 -3.970049 -2.512336   5.346330    -1.012009   1.844900  0.329840   \n",
       "1 -1.195217 -2.839257   3.664059     1.588232   0.853286  0.867530   \n",
       "2 -0.292024 -1.351282  -1.738429    -0.342616   2.838636 -0.038033   \n",
       "\n",
       "        Acidity Quality  \n",
       "0  -0.491590483    good  \n",
       "1  -0.722809367    good  \n",
       "2   2.621636473     bad  "
      ]
     },
     "execution_count": 9,
     "metadata": {},
     "output_type": "execute_result"
    }
   ],
   "source": [
    "data = data.drop('A_id', axis=1) #drop unnecessary column\n",
    "\n",
    "data.head(3)"
   ]
  },
  {
   "cell_type": "code",
   "execution_count": 10,
   "id": "1af89aab",
   "metadata": {
    "execution": {
     "iopub.execute_input": "2024-02-29T10:58:26.298841Z",
     "iopub.status.busy": "2024-02-29T10:58:26.298396Z",
     "iopub.status.idle": "2024-02-29T10:58:27.891986Z",
     "shell.execute_reply": "2024-02-29T10:58:27.890801Z"
    },
    "papermill": {
     "duration": 1.60656,
     "end_time": "2024-02-29T10:58:27.894848",
     "exception": false,
     "start_time": "2024-02-29T10:58:26.288288",
     "status": "completed"
    },
    "tags": []
   },
   "outputs": [
    {
     "data": {
      "image/png": "[encoded data removed]",
      "text/plain": [
       "<Figure size 800x500 with 1 Axes>"
      ]
     },
     "metadata": {},
     "output_type": "display_data"
    }
   ],
   "source": [
    "import matplotlib.pyplot as plt\n",
    "import seaborn as sns\n",
    "\n",
    "value_counts = data[\"Quality\"].value_counts()\n",
    "fig = plt.figure(figsize=(8,5))\n",
    "\n",
    "plt.pie(value_counts, labels=value_counts.index, autopct='%1.1f%%', pctdistance=0.5, labeldistance=.3)\n",
    "plt.axis('equal')  \n",
    "plt.show()"
   ]
  },
  {
   "cell_type": "code",
   "execution_count": 11,
   "id": "1132ac9f",
   "metadata": {
    "execution": {
     "iopub.execute_input": "2024-02-29T10:58:27.925041Z",
     "iopub.status.busy": "2024-02-29T10:58:27.924226Z",
     "iopub.status.idle": "2024-02-29T10:58:30.043849Z",
     "shell.execute_reply": "2024-02-29T10:58:30.042763Z"
    },
    "papermill": {
     "duration": 2.138153,
     "end_time": "2024-02-29T10:58:30.047060",
     "exception": false,
     "start_time": "2024-02-29T10:58:27.908907",
     "status": "completed"
    },
    "tags": []
   },
   "outputs": [
    {
     "data": {
      "image/png": "[encoded data removed]",
      "text/plain": [
       "<Figure size 1500x1000 with 6 Axes>"
      ]
     },
     "metadata": {},
     "output_type": "display_data"
    }
   ],
   "source": [
    "import warnings\n",
    "warnings.filterwarnings(\"ignore\")\n",
    "\n",
    "numerical_columns = ['Size', 'Weight', 'Sweetness', 'Crunchiness', 'Juiciness', 'Ripeness']\n",
    "\n",
    "plt.figure(figsize=(15,10))\n",
    "sns.set_palette('tab10')\n",
    "\n",
    "for i, column in enumerate(numerical_columns, 1):\n",
    "    plt.subplot(3, 3, i)\n",
    "    sns.histplot(data, x=column, kde=True, bins=20)  \n",
    "    plt.title(column)\n",
    "\n",
    "plt.tight_layout()\n",
    "plt.show()"
   ]
  },
  {
   "cell_type": "markdown",
   "id": "d025cd8d",
   "metadata": {
    "papermill": {
     "duration": 0.010644,
     "end_time": "2024-02-29T10:58:30.069652",
     "exception": false,
     "start_time": "2024-02-29T10:58:30.059008",
     "status": "completed"
    },
    "tags": []
   },
   "source": [
    "From these graphs we can see that all numeric data are normally distributed, so it would be better to use StandardScaler here."
   ]
  },
  {
   "cell_type": "code",
   "execution_count": 12,
   "id": "d7e1a56b",
   "metadata": {
    "execution": {
     "iopub.execute_input": "2024-02-29T10:58:30.093169Z",
     "iopub.status.busy": "2024-02-29T10:58:30.092314Z",
     "iopub.status.idle": "2024-02-29T10:58:31.142373Z",
     "shell.execute_reply": "2024-02-29T10:58:31.141159Z"
    },
    "papermill": {
     "duration": 1.06443,
     "end_time": "2024-02-29T10:58:31.144746",
     "exception": false,
     "start_time": "2024-02-29T10:58:30.080316",
     "status": "completed"
    },
    "tags": []
   },
   "outputs": [
    {
     "data": {
      "image/png": "[encoded data removed]",
      "text/plain": [
       "<Figure size 1500x1000 with 6 Axes>"
      ]
     },
     "metadata": {},
     "output_type": "display_data"
    }
   ],
   "source": [
    "numerical_columns = ['Size', 'Weight', 'Sweetness', 'Crunchiness', 'Juiciness', 'Ripeness']\n",
    "\n",
    "plt.figure(figsize=(15, 10))\n",
    "sns.set_palette(\"Set1\")\n",
    "for i, column in enumerate(numerical_columns, 1):\n",
    "    plt.subplot(3, 3, i)\n",
    "    sns.boxplot(y=data[column])\n",
    "    plt.title(column)\n",
    "\n",
    "plt.tight_layout()\n",
    "plt.show()"
   ]
  },
  {
   "cell_type": "markdown",
   "id": "f16bb6f5",
   "metadata": {
    "papermill": {
     "duration": 0.011296,
     "end_time": "2024-02-29T10:58:31.168271",
     "exception": false,
     "start_time": "2024-02-29T10:58:31.156975",
     "status": "completed"
    },
    "tags": []
   },
   "source": [
    "**PreProcessing**"
   ]
  },
  {
   "cell_type": "code",
   "execution_count": 13,
   "id": "bb506994",
   "metadata": {
    "execution": {
     "iopub.execute_input": "2024-02-29T10:58:31.194169Z",
     "iopub.status.busy": "2024-02-29T10:58:31.193763Z",
     "iopub.status.idle": "2024-02-29T10:58:31.489235Z",
     "shell.execute_reply": "2024-02-29T10:58:31.488136Z"
    },
    "papermill": {
     "duration": 0.311278,
     "end_time": "2024-02-29T10:58:31.491687",
     "exception": false,
     "start_time": "2024-02-29T10:58:31.180409",
     "status": "completed"
    },
    "tags": []
   },
   "outputs": [],
   "source": [
    "from sklearn.preprocessing import LabelEncoder, StandardScaler \n",
    "from sklearn.model_selection import train_test_split\n",
    "from sklearn.metrics import confusion_matrix, classification_report, accuracy_score"
   ]
  },
  {
   "cell_type": "code",
   "execution_count": 14,
   "id": "f7273775",
   "metadata": {
    "execution": {
     "iopub.execute_input": "2024-02-29T10:58:31.517757Z",
     "iopub.status.busy": "2024-02-29T10:58:31.516622Z",
     "iopub.status.idle": "2024-02-29T10:58:31.532857Z",
     "shell.execute_reply": "2024-02-29T10:58:31.531767Z"
    },
    "papermill": {
     "duration": 0.0314,
     "end_time": "2024-02-29T10:58:31.534962",
     "exception": false,
     "start_time": "2024-02-29T10:58:31.503562",
     "status": "completed"
    },
    "tags": []
   },
   "outputs": [
    {
     "data": {
      "text/html": [
       "<div>\n",
       "<style scoped>\n",
       "    .dataframe tbody tr th:only-of-type {\n",
       "        vertical-align: middle;\n",
       "    }\n",
       "\n",
       "    .dataframe tbody tr th {\n",
       "        vertical-align: top;\n",
       "    }\n",
       "\n",
       "    .dataframe thead th {\n",
       "        text-align: right;\n",
       "    }\n",
       "</style>\n",
       "<table border=\"1\" class=\"dataframe\">\n",
       "  <thead>\n",
       "    <tr style=\"text-align: right;\">\n",
       "      <th></th>\n",
       "      <th>Size</th>\n",
       "      <th>Weight</th>\n",
       "      <th>Sweetness</th>\n",
       "      <th>Crunchiness</th>\n",
       "      <th>Juiciness</th>\n",
       "      <th>Ripeness</th>\n",
       "      <th>Acidity</th>\n",
       "      <th>Quality</th>\n",
       "    </tr>\n",
       "  </thead>\n",
       "  <tbody>\n",
       "    <tr>\n",
       "      <th>0</th>\n",
       "      <td>-3.970049</td>\n",
       "      <td>-2.512336</td>\n",
       "      <td>5.346330</td>\n",
       "      <td>-1.012009</td>\n",
       "      <td>1.844900</td>\n",
       "      <td>0.329840</td>\n",
       "      <td>-0.491590483</td>\n",
       "      <td>1</td>\n",
       "    </tr>\n",
       "    <tr>\n",
       "      <th>1</th>\n",
       "      <td>-1.195217</td>\n",
       "      <td>-2.839257</td>\n",
       "      <td>3.664059</td>\n",
       "      <td>1.588232</td>\n",
       "      <td>0.853286</td>\n",
       "      <td>0.867530</td>\n",
       "      <td>-0.722809367</td>\n",
       "      <td>1</td>\n",
       "    </tr>\n",
       "    <tr>\n",
       "      <th>2</th>\n",
       "      <td>-0.292024</td>\n",
       "      <td>-1.351282</td>\n",
       "      <td>-1.738429</td>\n",
       "      <td>-0.342616</td>\n",
       "      <td>2.838636</td>\n",
       "      <td>-0.038033</td>\n",
       "      <td>2.621636473</td>\n",
       "      <td>0</td>\n",
       "    </tr>\n",
       "  </tbody>\n",
       "</table>\n",
       "</div>"
      ],
      "text/plain": [
       "       Size    Weight  Sweetness  Crunchiness  Juiciness  Ripeness  \\\n",
       "0 -3.970049 -2.512336   5.346330    -1.012009   1.844900  0.329840   \n",
       "1 -1.195217 -2.839257   3.664059     1.588232   0.853286  0.867530   \n",
       "2 -0.292024 -1.351282  -1.738429    -0.342616   2.838636 -0.038033   \n",
       "\n",
       "        Acidity  Quality  \n",
       "0  -0.491590483        1  \n",
       "1  -0.722809367        1  \n",
       "2   2.621636473        0  "
      ]
     },
     "execution_count": 14,
     "metadata": {},
     "output_type": "execute_result"
    }
   ],
   "source": [
    "encoder = LabelEncoder()\n",
    "\n",
    "data['Quality'] = encoder.fit_transform(data['Quality'])\n",
    "\n",
    "data.head(3)"
   ]
  },
  {
   "cell_type": "code",
   "execution_count": 15,
   "id": "7db60557",
   "metadata": {
    "execution": {
     "iopub.execute_input": "2024-02-29T10:58:31.559951Z",
     "iopub.status.busy": "2024-02-29T10:58:31.559561Z",
     "iopub.status.idle": "2024-02-29T10:58:31.589520Z",
     "shell.execute_reply": "2024-02-29T10:58:31.588388Z"
    },
    "papermill": {
     "duration": 0.045397,
     "end_time": "2024-02-29T10:58:31.591913",
     "exception": false,
     "start_time": "2024-02-29T10:58:31.546516",
     "status": "completed"
    },
    "tags": []
   },
   "outputs": [
    {
     "data": {
      "text/html": [
       "<div>\n",
       "<style scoped>\n",
       "    .dataframe tbody tr th:only-of-type {\n",
       "        vertical-align: middle;\n",
       "    }\n",
       "\n",
       "    .dataframe tbody tr th {\n",
       "        vertical-align: top;\n",
       "    }\n",
       "\n",
       "    .dataframe thead th {\n",
       "        text-align: right;\n",
       "    }\n",
       "</style>\n",
       "<table border=\"1\" class=\"dataframe\">\n",
       "  <thead>\n",
       "    <tr style=\"text-align: right;\">\n",
       "      <th></th>\n",
       "      <th>count</th>\n",
       "      <th>mean</th>\n",
       "      <th>std</th>\n",
       "      <th>min</th>\n",
       "      <th>25%</th>\n",
       "      <th>50%</th>\n",
       "      <th>75%</th>\n",
       "      <th>max</th>\n",
       "    </tr>\n",
       "  </thead>\n",
       "  <tbody>\n",
       "    <tr>\n",
       "      <th>Size</th>\n",
       "      <td>4000.0</td>\n",
       "      <td>-0.503015</td>\n",
       "      <td>1.928059</td>\n",
       "      <td>-7.151703</td>\n",
       "      <td>-1.816765</td>\n",
       "      <td>-0.513703</td>\n",
       "      <td>0.805526</td>\n",
       "      <td>6.406367</td>\n",
       "    </tr>\n",
       "    <tr>\n",
       "      <th>Weight</th>\n",
       "      <td>4000.0</td>\n",
       "      <td>-0.989547</td>\n",
       "      <td>1.602507</td>\n",
       "      <td>-7.149848</td>\n",
       "      <td>-2.011770</td>\n",
       "      <td>-0.984736</td>\n",
       "      <td>0.030976</td>\n",
       "      <td>5.790714</td>\n",
       "    </tr>\n",
       "    <tr>\n",
       "      <th>Sweetness</th>\n",
       "      <td>4000.0</td>\n",
       "      <td>-0.470479</td>\n",
       "      <td>1.943441</td>\n",
       "      <td>-6.894485</td>\n",
       "      <td>-1.738425</td>\n",
       "      <td>-0.504758</td>\n",
       "      <td>0.801922</td>\n",
       "      <td>6.374916</td>\n",
       "    </tr>\n",
       "    <tr>\n",
       "      <th>Crunchiness</th>\n",
       "      <td>4000.0</td>\n",
       "      <td>0.985478</td>\n",
       "      <td>1.402757</td>\n",
       "      <td>-6.055058</td>\n",
       "      <td>0.062764</td>\n",
       "      <td>0.998249</td>\n",
       "      <td>1.894234</td>\n",
       "      <td>7.619852</td>\n",
       "    </tr>\n",
       "    <tr>\n",
       "      <th>Juiciness</th>\n",
       "      <td>4000.0</td>\n",
       "      <td>0.512118</td>\n",
       "      <td>1.930286</td>\n",
       "      <td>-5.961897</td>\n",
       "      <td>-0.801286</td>\n",
       "      <td>0.534219</td>\n",
       "      <td>1.835976</td>\n",
       "      <td>7.364403</td>\n",
       "    </tr>\n",
       "    <tr>\n",
       "      <th>Ripeness</th>\n",
       "      <td>4000.0</td>\n",
       "      <td>0.498277</td>\n",
       "      <td>1.874427</td>\n",
       "      <td>-5.864599</td>\n",
       "      <td>-0.771677</td>\n",
       "      <td>0.503445</td>\n",
       "      <td>1.766212</td>\n",
       "      <td>7.237837</td>\n",
       "    </tr>\n",
       "    <tr>\n",
       "      <th>Quality</th>\n",
       "      <td>4000.0</td>\n",
       "      <td>0.501000</td>\n",
       "      <td>0.500062</td>\n",
       "      <td>0.000000</td>\n",
       "      <td>0.000000</td>\n",
       "      <td>1.000000</td>\n",
       "      <td>1.000000</td>\n",
       "      <td>1.000000</td>\n",
       "    </tr>\n",
       "  </tbody>\n",
       "</table>\n",
       "</div>"
      ],
      "text/plain": [
       "              count      mean       std       min       25%       50%  \\\n",
       "Size         4000.0 -0.503015  1.928059 -7.151703 -1.816765 -0.513703   \n",
       "Weight       4000.0 -0.989547  1.602507 -7.149848 -2.011770 -0.984736   \n",
       "Sweetness    4000.0 -0.470479  1.943441 -6.894485 -1.738425 -0.504758   \n",
       "Crunchiness  4000.0  0.985478  1.402757 -6.055058  0.062764  0.998249   \n",
       "Juiciness    4000.0  0.512118  1.930286 -5.961897 -0.801286  0.534219   \n",
       "Ripeness     4000.0  0.498277  1.874427 -5.864599 -0.771677  0.503445   \n",
       "Quality      4000.0  0.501000  0.500062  0.000000  0.000000  1.000000   \n",
       "\n",
       "                  75%       max  \n",
       "Size         0.805526  6.406367  \n",
       "Weight       0.030976  5.790714  \n",
       "Sweetness    0.801922  6.374916  \n",
       "Crunchiness  1.894234  7.619852  \n",
       "Juiciness    1.835976  7.364403  \n",
       "Ripeness     1.766212  7.237837  \n",
       "Quality      1.000000  1.000000  "
      ]
     },
     "execution_count": 15,
     "metadata": {},
     "output_type": "execute_result"
    }
   ],
   "source": [
    "data.describe().T"
   ]
  },
  {
   "cell_type": "code",
   "execution_count": 16,
   "id": "423e72db",
   "metadata": {
    "execution": {
     "iopub.execute_input": "2024-02-29T10:58:31.618471Z",
     "iopub.status.busy": "2024-02-29T10:58:31.618033Z",
     "iopub.status.idle": "2024-02-29T10:58:31.624696Z",
     "shell.execute_reply": "2024-02-29T10:58:31.623904Z"
    },
    "papermill": {
     "duration": 0.022186,
     "end_time": "2024-02-29T10:58:31.626804",
     "exception": false,
     "start_time": "2024-02-29T10:58:31.604618",
     "status": "completed"
    },
    "tags": []
   },
   "outputs": [],
   "source": [
    "x = data[data.columns[:-1]] #Feature Variables\n",
    "y = data['Quality'] #Target Variable"
   ]
  },
  {
   "cell_type": "code",
   "execution_count": 17,
   "id": "c3df91c7",
   "metadata": {
    "execution": {
     "iopub.execute_input": "2024-02-29T10:58:31.652429Z",
     "iopub.status.busy": "2024-02-29T10:58:31.652063Z",
     "iopub.status.idle": "2024-02-29T10:58:31.668491Z",
     "shell.execute_reply": "2024-02-29T10:58:31.667205Z"
    },
    "papermill": {
     "duration": 0.032301,
     "end_time": "2024-02-29T10:58:31.671106",
     "exception": false,
     "start_time": "2024-02-29T10:58:31.638805",
     "status": "completed"
    },
    "tags": []
   },
   "outputs": [
    {
     "data": {
      "text/html": [
       "<div>\n",
       "<style scoped>\n",
       "    .dataframe tbody tr th:only-of-type {\n",
       "        vertical-align: middle;\n",
       "    }\n",
       "\n",
       "    .dataframe tbody tr th {\n",
       "        vertical-align: top;\n",
       "    }\n",
       "\n",
       "    .dataframe thead th {\n",
       "        text-align: right;\n",
       "    }\n",
       "</style>\n",
       "<table border=\"1\" class=\"dataframe\">\n",
       "  <thead>\n",
       "    <tr style=\"text-align: right;\">\n",
       "      <th></th>\n",
       "      <th>Size</th>\n",
       "      <th>Weight</th>\n",
       "      <th>Sweetness</th>\n",
       "      <th>Crunchiness</th>\n",
       "      <th>Juiciness</th>\n",
       "      <th>Ripeness</th>\n",
       "      <th>Acidity</th>\n",
       "    </tr>\n",
       "  </thead>\n",
       "  <tbody>\n",
       "    <tr>\n",
       "      <th>0</th>\n",
       "      <td>-3.970049</td>\n",
       "      <td>-2.512336</td>\n",
       "      <td>5.346330</td>\n",
       "      <td>-1.012009</td>\n",
       "      <td>1.844900</td>\n",
       "      <td>0.329840</td>\n",
       "      <td>-0.491590483</td>\n",
       "    </tr>\n",
       "    <tr>\n",
       "      <th>1</th>\n",
       "      <td>-1.195217</td>\n",
       "      <td>-2.839257</td>\n",
       "      <td>3.664059</td>\n",
       "      <td>1.588232</td>\n",
       "      <td>0.853286</td>\n",
       "      <td>0.867530</td>\n",
       "      <td>-0.722809367</td>\n",
       "    </tr>\n",
       "    <tr>\n",
       "      <th>2</th>\n",
       "      <td>-0.292024</td>\n",
       "      <td>-1.351282</td>\n",
       "      <td>-1.738429</td>\n",
       "      <td>-0.342616</td>\n",
       "      <td>2.838636</td>\n",
       "      <td>-0.038033</td>\n",
       "      <td>2.621636473</td>\n",
       "    </tr>\n",
       "    <tr>\n",
       "      <th>3</th>\n",
       "      <td>-0.657196</td>\n",
       "      <td>-2.271627</td>\n",
       "      <td>1.324874</td>\n",
       "      <td>-0.097875</td>\n",
       "      <td>3.637970</td>\n",
       "      <td>-3.413761</td>\n",
       "      <td>0.790723217</td>\n",
       "    </tr>\n",
       "    <tr>\n",
       "      <th>4</th>\n",
       "      <td>1.364217</td>\n",
       "      <td>-1.296612</td>\n",
       "      <td>-0.384658</td>\n",
       "      <td>-0.553006</td>\n",
       "      <td>3.030874</td>\n",
       "      <td>-1.303849</td>\n",
       "      <td>0.501984036</td>\n",
       "    </tr>\n",
       "  </tbody>\n",
       "</table>\n",
       "</div>"
      ],
      "text/plain": [
       "       Size    Weight  Sweetness  Crunchiness  Juiciness  Ripeness  \\\n",
       "0 -3.970049 -2.512336   5.346330    -1.012009   1.844900  0.329840   \n",
       "1 -1.195217 -2.839257   3.664059     1.588232   0.853286  0.867530   \n",
       "2 -0.292024 -1.351282  -1.738429    -0.342616   2.838636 -0.038033   \n",
       "3 -0.657196 -2.271627   1.324874    -0.097875   3.637970 -3.413761   \n",
       "4  1.364217 -1.296612  -0.384658    -0.553006   3.030874 -1.303849   \n",
       "\n",
       "        Acidity  \n",
       "0  -0.491590483  \n",
       "1  -0.722809367  \n",
       "2   2.621636473  \n",
       "3   0.790723217  \n",
       "4   0.501984036  "
      ]
     },
     "execution_count": 17,
     "metadata": {},
     "output_type": "execute_result"
    }
   ],
   "source": [
    "x.head()"
   ]
  },
  {
   "cell_type": "code",
   "execution_count": 18,
   "id": "af98666e",
   "metadata": {
    "execution": {
     "iopub.execute_input": "2024-02-29T10:58:31.706456Z",
     "iopub.status.busy": "2024-02-29T10:58:31.706076Z",
     "iopub.status.idle": "2024-02-29T10:58:31.714620Z",
     "shell.execute_reply": "2024-02-29T10:58:31.713506Z"
    },
    "papermill": {
     "duration": 0.031303,
     "end_time": "2024-02-29T10:58:31.716851",
     "exception": false,
     "start_time": "2024-02-29T10:58:31.685548",
     "status": "completed"
    },
    "tags": []
   },
   "outputs": [
    {
     "data": {
      "text/plain": [
       "0    1\n",
       "1    1\n",
       "2    0\n",
       "3    1\n",
       "4    1\n",
       "Name: Quality, dtype: int64"
      ]
     },
     "execution_count": 18,
     "metadata": {},
     "output_type": "execute_result"
    }
   ],
   "source": [
    "y.head()"
   ]
  },
  {
   "cell_type": "code",
   "execution_count": 19,
   "id": "340ab2a3",
   "metadata": {
    "execution": {
     "iopub.execute_input": "2024-02-29T10:58:31.744790Z",
     "iopub.status.busy": "2024-02-29T10:58:31.744025Z",
     "iopub.status.idle": "2024-02-29T10:58:31.767816Z",
     "shell.execute_reply": "2024-02-29T10:58:31.766807Z"
    },
    "papermill": {
     "duration": 0.04028,
     "end_time": "2024-02-29T10:58:31.770200",
     "exception": false,
     "start_time": "2024-02-29T10:58:31.729920",
     "status": "completed"
    },
    "tags": []
   },
   "outputs": [],
   "source": [
    "X_train, X_test, y_train, y_test = train_test_split(x, y, test_size=0.2, random_state=42)\n",
    "\n",
    "standard_scaler = StandardScaler()\n",
    "\n",
    "X_train_scaled = standard_scaler.fit_transform(X_train)\n",
    "X_test_scaled = standard_scaler.fit_transform(X_test)"
   ]
  },
  {
   "cell_type": "code",
   "execution_count": 20,
   "id": "2fd559dc",
   "metadata": {
    "execution": {
     "iopub.execute_input": "2024-02-29T10:58:31.799600Z",
     "iopub.status.busy": "2024-02-29T10:58:31.798696Z",
     "iopub.status.idle": "2024-02-29T10:58:31.919004Z",
     "shell.execute_reply": "2024-02-29T10:58:31.917875Z"
    },
    "papermill": {
     "duration": 0.138545,
     "end_time": "2024-02-29T10:58:31.921952",
     "exception": false,
     "start_time": "2024-02-29T10:58:31.783407",
     "status": "completed"
    },
    "tags": []
   },
   "outputs": [
    {
     "data": {
      "text/html": [
       "<style>#sk-container-id-1 {color: black;background-color: white;}#sk-container-id-1 pre{padding: 0;}#sk-container-id-1 div.sk-toggleable {background-color: white;}#sk-container-id-1 label.sk-toggleable__label {cursor: pointer;display: block;width: 100%;margin-bottom: 0;padding: 0.3em;box-sizing: border-box;text-align: center;}#sk-container-id-1 label.sk-toggleable__label-arrow:before {content: \"▸\";float: left;margin-right: 0.25em;color: #696969;}#sk-container-id-1 label.sk-toggleable__label-arrow:hover:before {color: black;}#sk-container-id-1 div.sk-estimator:hover label.sk-toggleable__label-arrow:before {color: black;}#sk-container-id-1 div.sk-toggleable__content {max-height: 0;max-width: 0;overflow: hidden;text-align: left;background-color: #f0f8ff;}#sk-container-id-1 div.sk-toggleable__content pre {margin: 0.2em;color: black;border-radius: 0.25em;background-color: #f0f8ff;}#sk-container-id-1 input.sk-toggleable__control:checked~div.sk-toggleable__content {max-height: 200px;max-width: 100%;overflow: auto;}#sk-container-id-1 input.sk-toggleable__control:checked~label.sk-toggleable__label-arrow:before {content: \"▾\";}#sk-container-id-1 div.sk-estimator input.sk-toggleable__control:checked~label.sk-toggleable__label {background-color: #d4ebff;}#sk-container-id-1 div.sk-label input.sk-toggleable__control:checked~label.sk-toggleable__label {background-color: #d4ebff;}#sk-container-id-1 input.sk-hidden--visually {border: 0;clip: rect(1px 1px 1px 1px);clip: rect(1px, 1px, 1px, 1px);height: 1px;margin: -1px;overflow: hidden;padding: 0;position: absolute;width: 1px;}#sk-container-id-1 div.sk-estimator {font-family: monospace;background-color: #f0f8ff;border: 1px dotted black;border-radius: 0.25em;box-sizing: border-box;margin-bottom: 0.5em;}#sk-container-id-1 div.sk-estimator:hover {background-color: #d4ebff;}#sk-container-id-1 div.sk-parallel-item::after {content: \"\";width: 100%;border-bottom: 1px solid gray;flex-grow: 1;}#sk-container-id-1 div.sk-label:hover label.sk-toggleable__label {background-color: #d4ebff;}#sk-container-id-1 div.sk-serial::before {content: \"\";position: absolute;border-left: 1px solid gray;box-sizing: border-box;top: 0;bottom: 0;left: 50%;z-index: 0;}#sk-container-id-1 div.sk-serial {display: flex;flex-direction: column;align-items: center;background-color: white;padding-right: 0.2em;padding-left: 0.2em;position: relative;}#sk-container-id-1 div.sk-item {position: relative;z-index: 1;}#sk-container-id-1 div.sk-parallel {display: flex;align-items: stretch;justify-content: center;background-color: white;position: relative;}#sk-container-id-1 div.sk-item::before, #sk-container-id-1 div.sk-parallel-item::before {content: \"\";position: absolute;border-left: 1px solid gray;box-sizing: border-box;top: 0;bottom: 0;left: 50%;z-index: -1;}#sk-container-id-1 div.sk-parallel-item {display: flex;flex-direction: column;z-index: 1;position: relative;background-color: white;}#sk-container-id-1 div.sk-parallel-item:first-child::after {align-self: flex-end;width: 50%;}#sk-container-id-1 div.sk-parallel-item:last-child::after {align-self: flex-start;width: 50%;}#sk-container-id-1 div.sk-parallel-item:only-child::after {width: 0;}#sk-container-id-1 div.sk-dashed-wrapped {border: 1px dashed gray;margin: 0 0.4em 0.5em 0.4em;box-sizing: border-box;padding-bottom: 0.4em;background-color: white;}#sk-container-id-1 div.sk-label label {font-family: monospace;font-weight: bold;display: inline-block;line-height: 1.2em;}#sk-container-id-1 div.sk-label-container {text-align: center;}#sk-container-id-1 div.sk-container {/* jupyter's `normalize.less` sets `[hidden] { display: none; }` but bootstrap.min.css set `[hidden] { display: none !important; }` so we also need the `!important` here to be able to override the default hidden behavior on the sphinx rendered scikit-learn.org. See: https://github.com/scikit-learn/scikit-learn/issues/21755 */display: inline-block !important;position: relative;}#sk-container-id-1 div.sk-text-repr-fallback {display: none;}</style><div id=\"sk-container-id-1\" class=\"sk-top-container\"><div class=\"sk-text-repr-fallback\"><pre>LogisticRegression(random_state=42)</pre><b>In a Jupyter environment, please rerun this cell to show the HTML representation or trust the notebook. <br />On GitHub, the HTML representation is unable to render, please try loading this page with nbviewer.org.</b></div><div class=\"sk-container\" hidden><div class=\"sk-item\"><div class=\"sk-estimator sk-toggleable\"><input class=\"sk-toggleable__control sk-hidden--visually\" id=\"sk-estimator-id-1\" type=\"checkbox\" checked><label for=\"sk-estimator-id-1\" class=\"sk-toggleable__label sk-toggleable__label-arrow\">LogisticRegression</label><div class=\"sk-toggleable__content\"><pre>LogisticRegression(random_state=42)</pre></div></div></div></div></div>"
      ],
      "text/plain": [
       "LogisticRegression(random_state=42)"
      ]
     },
     "execution_count": 20,
     "metadata": {},
     "output_type": "execute_result"
    }
   ],
   "source": [
    "from sklearn.linear_model import LogisticRegression\n",
    "\n",
    "lgstc_clf = LogisticRegression(random_state=42)\n",
    "\n",
    "lgstc_clf.fit(X_train_scaled, y_train)"
   ]
  },
  {
   "cell_type": "code",
   "execution_count": 21,
   "id": "a710145f",
   "metadata": {
    "execution": {
     "iopub.execute_input": "2024-02-29T10:58:31.967072Z",
     "iopub.status.busy": "2024-02-29T10:58:31.966338Z",
     "iopub.status.idle": "2024-02-29T10:58:32.178456Z",
     "shell.execute_reply": "2024-02-29T10:58:32.177212Z"
    },
    "papermill": {
     "duration": 0.237633,
     "end_time": "2024-02-29T10:58:32.180751",
     "exception": false,
     "start_time": "2024-02-29T10:58:31.943118",
     "status": "completed"
    },
    "tags": []
   },
   "outputs": [
    {
     "name": "stdout",
     "output_type": "stream",
     "text": [
      "Accuracy: 0.75875\n",
      "Classification Report:               precision    recall  f1-score   support\n",
      "\n",
      "           0       0.77      0.75      0.76       401\n",
      "           1       0.75      0.77      0.76       399\n",
      "\n",
      "    accuracy                           0.76       800\n",
      "   macro avg       0.76      0.76      0.76       800\n",
      "weighted avg       0.76      0.76      0.76       800\n",
      "\n"
     ]
    },
    {
     "data": {
      "image/png": "[encoded data removed]",
      "text/plain": [
       "<Figure size 640x480 with 1 Axes>"
      ]
     },
     "metadata": {},
     "output_type": "display_data"
    }
   ],
   "source": [
    "y_pred = lgstc_clf.predict(X_test_scaled)\n",
    "\n",
    "accuracy = accuracy_score(y_test, y_pred)\n",
    "\n",
    "classification_rep = classification_report(y_test, y_pred)\n",
    "\n",
    "conf_matrix = confusion_matrix(y_test, y_pred)\n",
    "\n",
    "print(\"Accuracy:\", accuracy)\n",
    "print(\"Classification Report:\", classification_rep)\n",
    "sns.heatmap(conf_matrix,annot=True, fmt='d', cmap='Blues', cbar=False,)\n",
    "plt.title('Logistic Regression Confusion Matrix');"
   ]
  },
  {
   "cell_type": "markdown",
   "id": "5057fd11",
   "metadata": {
    "papermill": {
     "duration": 0.013075,
     "end_time": "2024-02-29T10:58:32.207276",
     "exception": false,
     "start_time": "2024-02-29T10:58:32.194201",
     "status": "completed"
    },
    "tags": []
   },
   "source": [
    "Here we see the accuracy of this model is 0.75875, and Confusion Matrix values are not very well. Then I try to train model with K-Nearest Neighbors for better accuracy and Confusion Matrix."
   ]
  },
  {
   "cell_type": "code",
   "execution_count": 22,
   "id": "f834ede7",
   "metadata": {
    "execution": {
     "iopub.execute_input": "2024-02-29T10:58:32.236525Z",
     "iopub.status.busy": "2024-02-29T10:58:32.235896Z",
     "iopub.status.idle": "2024-02-29T10:58:32.312087Z",
     "shell.execute_reply": "2024-02-29T10:58:32.311018Z"
    },
    "papermill": {
     "duration": 0.093273,
     "end_time": "2024-02-29T10:58:32.314544",
     "exception": false,
     "start_time": "2024-02-29T10:58:32.221271",
     "status": "completed"
    },
    "tags": []
   },
   "outputs": [
    {
     "data": {
      "text/html": [
       "<style>#sk-container-id-2 {color: black;background-color: white;}#sk-container-id-2 pre{padding: 0;}#sk-container-id-2 div.sk-toggleable {background-color: white;}#sk-container-id-2 label.sk-toggleable__label {cursor: pointer;display: block;width: 100%;margin-bottom: 0;padding: 0.3em;box-sizing: border-box;text-align: center;}#sk-container-id-2 label.sk-toggleable__label-arrow:before {content: \"▸\";float: left;margin-right: 0.25em;color: #696969;}#sk-container-id-2 label.sk-toggleable__label-arrow:hover:before {color: black;}#sk-container-id-2 div.sk-estimator:hover label.sk-toggleable__label-arrow:before {color: black;}#sk-container-id-2 div.sk-toggleable__content {max-height: 0;max-width: 0;overflow: hidden;text-align: left;background-color: #f0f8ff;}#sk-container-id-2 div.sk-toggleable__content pre {margin: 0.2em;color: black;border-radius: 0.25em;background-color: #f0f8ff;}#sk-container-id-2 input.sk-toggleable__control:checked~div.sk-toggleable__content {max-height: 200px;max-width: 100%;overflow: auto;}#sk-container-id-2 input.sk-toggleable__control:checked~label.sk-toggleable__label-arrow:before {content: \"▾\";}#sk-container-id-2 div.sk-estimator input.sk-toggleable__control:checked~label.sk-toggleable__label {background-color: #d4ebff;}#sk-container-id-2 div.sk-label input.sk-toggleable__control:checked~label.sk-toggleable__label {background-color: #d4ebff;}#sk-container-id-2 input.sk-hidden--visually {border: 0;clip: rect(1px 1px 1px 1px);clip: rect(1px, 1px, 1px, 1px);height: 1px;margin: -1px;overflow: hidden;padding: 0;position: absolute;width: 1px;}#sk-container-id-2 div.sk-estimator {font-family: monospace;background-color: #f0f8ff;border: 1px dotted black;border-radius: 0.25em;box-sizing: border-box;margin-bottom: 0.5em;}#sk-container-id-2 div.sk-estimator:hover {background-color: #d4ebff;}#sk-container-id-2 div.sk-parallel-item::after {content: \"\";width: 100%;border-bottom: 1px solid gray;flex-grow: 1;}#sk-container-id-2 div.sk-label:hover label.sk-toggleable__label {background-color: #d4ebff;}#sk-container-id-2 div.sk-serial::before {content: \"\";position: absolute;border-left: 1px solid gray;box-sizing: border-box;top: 0;bottom: 0;left: 50%;z-index: 0;}#sk-container-id-2 div.sk-serial {display: flex;flex-direction: column;align-items: center;background-color: white;padding-right: 0.2em;padding-left: 0.2em;position: relative;}#sk-container-id-2 div.sk-item {position: relative;z-index: 1;}#sk-container-id-2 div.sk-parallel {display: flex;align-items: stretch;justify-content: center;background-color: white;position: relative;}#sk-container-id-2 div.sk-item::before, #sk-container-id-2 div.sk-parallel-item::before {content: \"\";position: absolute;border-left: 1px solid gray;box-sizing: border-box;top: 0;bottom: 0;left: 50%;z-index: -1;}#sk-container-id-2 div.sk-parallel-item {display: flex;flex-direction: column;z-index: 1;position: relative;background-color: white;}#sk-container-id-2 div.sk-parallel-item:first-child::after {align-self: flex-end;width: 50%;}#sk-container-id-2 div.sk-parallel-item:last-child::after {align-self: flex-start;width: 50%;}#sk-container-id-2 div.sk-parallel-item:only-child::after {width: 0;}#sk-container-id-2 div.sk-dashed-wrapped {border: 1px dashed gray;margin: 0 0.4em 0.5em 0.4em;box-sizing: border-box;padding-bottom: 0.4em;background-color: white;}#sk-container-id-2 div.sk-label label {font-family: monospace;font-weight: bold;display: inline-block;line-height: 1.2em;}#sk-container-id-2 div.sk-label-container {text-align: center;}#sk-container-id-2 div.sk-container {/* jupyter's `normalize.less` sets `[hidden] { display: none; }` but bootstrap.min.css set `[hidden] { display: none !important; }` so we also need the `!important` here to be able to override the default hidden behavior on the sphinx rendered scikit-learn.org. See: https://github.com/scikit-learn/scikit-learn/issues/21755 */display: inline-block !important;position: relative;}#sk-container-id-2 div.sk-text-repr-fallback {display: none;}</style><div id=\"sk-container-id-2\" class=\"sk-top-container\"><div class=\"sk-text-repr-fallback\"><pre>KNeighborsClassifier(n_neighbors=3)</pre><b>In a Jupyter environment, please rerun this cell to show the HTML representation or trust the notebook. <br />On GitHub, the HTML representation is unable to render, please try loading this page with nbviewer.org.</b></div><div class=\"sk-container\" hidden><div class=\"sk-item\"><div class=\"sk-estimator sk-toggleable\"><input class=\"sk-toggleable__control sk-hidden--visually\" id=\"sk-estimator-id-2\" type=\"checkbox\" checked><label for=\"sk-estimator-id-2\" class=\"sk-toggleable__label sk-toggleable__label-arrow\">KNeighborsClassifier</label><div class=\"sk-toggleable__content\"><pre>KNeighborsClassifier(n_neighbors=3)</pre></div></div></div></div></div>"
      ],
      "text/plain": [
       "KNeighborsClassifier(n_neighbors=3)"
      ]
     },
     "execution_count": 22,
     "metadata": {},
     "output_type": "execute_result"
    }
   ],
   "source": [
    "from sklearn.neighbors import KNeighborsClassifier\n",
    "knn = KNeighborsClassifier(n_neighbors=3)\n",
    "knn.fit(X_train_scaled,y_train)"
   ]
  },
  {
   "cell_type": "code",
   "execution_count": 23,
   "id": "3e633557",
   "metadata": {
    "execution": {
     "iopub.execute_input": "2024-02-29T10:58:32.343675Z",
     "iopub.status.busy": "2024-02-29T10:58:32.343320Z",
     "iopub.status.idle": "2024-02-29T10:58:32.782264Z",
     "shell.execute_reply": "2024-02-29T10:58:32.781038Z"
    },
    "papermill": {
     "duration": 0.456353,
     "end_time": "2024-02-29T10:58:32.784434",
     "exception": false,
     "start_time": "2024-02-29T10:58:32.328081",
     "status": "completed"
    },
    "tags": []
   },
   "outputs": [
    {
     "name": "stdout",
     "output_type": "stream",
     "text": [
      "Accuracy =  89.12  %\n",
      "Classification report: \n",
      "              precision    recall  f1-score   support\n",
      "\n",
      "           0       0.90      0.88      0.89       401\n",
      "           1       0.88      0.90      0.89       399\n",
      "\n",
      "    accuracy                           0.89       800\n",
      "   macro avg       0.89      0.89      0.89       800\n",
      "weighted avg       0.89      0.89      0.89       800\n",
      "\n",
      "\n"
     ]
    },
    {
     "data": {
      "image/png": "[encoded data removed]",
      "text/plain": [
       "<Figure size 640x480 with 1 Axes>"
      ]
     },
     "metadata": {},
     "output_type": "display_data"
    }
   ],
   "source": [
    "y_pred = knn.predict(X_test_scaled)\n",
    "cm = confusion_matrix(y_test, y_pred)\n",
    "knn_train_acc = round(accuracy_score(y_train,knn.predict(X_train_scaled))*100,2)\n",
    "knn_test_acc = round(accuracy_score(y_test,y_pred)*100,2)\n",
    "print('Accuracy = ' , knn_test_acc,' %')\n",
    "print(\"Classification report: \\n{}\\n\".format(classification_report(y_test, y_pred)))\n",
    "sns.heatmap(cm,annot=True, fmt='d', cmap='Blues', cbar=False,)\n",
    "plt.title('K-Nearest Neighbors Confusion Matrix');"
   ]
  },
  {
   "cell_type": "markdown",
   "id": "e16e6097",
   "metadata": {
    "papermill": {
     "duration": 0.013354,
     "end_time": "2024-02-29T10:58:32.812190",
     "exception": false,
     "start_time": "2024-02-29T10:58:32.798836",
     "status": "completed"
    },
    "tags": []
   },
   "source": [
    "If you like my notebook, please upvote for my motivation. 😊"
   ]
  }
 ],
 "metadata": {
  "kaggle": {
   "accelerator": "none",
   "dataSources": [
    {
     "datasetId": 4291772,
     "sourceId": 7384155,
     "sourceType": "datasetVersion"
    }
   ],
   "dockerImageVersionId": 30664,
   "isGpuEnabled": false,
   "isInternetEnabled": true,
   "language": "python",
   "sourceType": "notebook"
  },
  "kernelspec": {
   "display_name": "Python 3",
   "language": "python",
   "name": "python3"
  },
  "language_info": {
   "codemirror_mode": {
    "name": "ipython",
    "version": 3
   },
   "file_extension": ".py",
   "mimetype": "text/x-python",
   "name": "python",
   "nbconvert_exporter": "python",
   "pygments_lexer": "ipython3",
   "version": "3.10.13"
  },
  "papermill": {
   "default_parameters": {},
   "duration": 11.429842,
   "end_time": "2024-02-29T10:58:33.546866",
   "environment_variables": {},
   "exception": null,
   "input_path": "__notebook__.ipynb",
   "output_path": "__notebook__.ipynb",
   "parameters": {},
   "start_time": "2024-02-29T10:58:22.117024",
   "version": "2.5.0"
  }
 },
 "nbformat": 4,
 "nbformat_minor": 5
}
